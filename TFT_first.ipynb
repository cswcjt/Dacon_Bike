{
  "nbformat": 4,
  "nbformat_minor": 0,
  "metadata": {
    "colab": {
      "provenance": [],
      "authorship_tag": "ABX9TyOI4ZVMNseVrHtD5HyiueU+",
      "include_colab_link": true
    },
    "kernelspec": {
      "name": "python3",
      "display_name": "Python 3"
    },
    "language_info": {
      "name": "python"
    },
    "accelerator": "GPU",
    "gpuClass": "standard"
  },
  "cells": [
    {
      "cell_type": "markdown",
      "metadata": {
        "id": "view-in-github",
        "colab_type": "text"
      },
      "source": [
        "<a href=\"https://colab.research.google.com/github/cswcjt/Dacon_Bike/blob/main/TFT_first.ipynb\" target=\"_parent\"><img src=\"https://colab.research.google.com/assets/colab-badge.svg\" alt=\"Open In Colab\"/></a>"
      ]
    },
    {
      "cell_type": "code",
      "execution_count": 1,
      "metadata": {
        "colab": {
          "base_uri": "https://localhost:8080/"
        },
        "id": "AWRLHcsQjvpN",
        "outputId": "560fc0fd-b92f-4f28-9f38-15eec56d7f7c"
      },
      "outputs": [
        {
          "output_type": "stream",
          "name": "stdout",
          "text": [
            "Mounted at /content/drive\n"
          ]
        }
      ],
      "source": [
        "from google.colab import drive\n",
        "drive.mount('/content/drive')"
      ]
    },
    {
      "cell_type": "code",
      "source": [
        "%%capture \n",
        "!pip install torch pytorch-lightning pytorch_forecasting"
      ],
      "metadata": {
        "id": "UwYV2USUnZxb"
      },
      "execution_count": 2,
      "outputs": []
    },
    {
      "cell_type": "code",
      "source": [
        "%%capture \n",
        "!pip install statsmodels --upgrade"
      ],
      "metadata": {
        "id": "ZOcemzzG3Z0U"
      },
      "execution_count": 3,
      "outputs": []
    },
    {
      "cell_type": "code",
      "source": [
        "import warnings\n",
        "import pickle\n",
        "\n",
        "import numpy as np\n",
        "import pandas as pd\n",
        "import matplotlib.pyplot as plt\n",
        "import pytorch_lightning as pl\n",
        "from pytorch_lightning.callbacks import EarlyStopping, LearningRateMonitor\n",
        "from pytorch_lightning.loggers import TensorBoardLogger\n",
        "import torch\n",
        "\n",
        "from pytorch_forecasting import Baseline, TemporalFusionTransformer, TimeSeriesDataSet\n",
        "from pytorch_forecasting.data import GroupNormalizer\n",
        "from pytorch_forecasting.metrics import MAE, SMAPE, PoissonLoss, QuantileLoss\n",
        "from pytorch_forecasting.models.temporal_fusion_transformer.tuning import optimize_hyperparameters\n",
        "\n",
        "import seaborn as sns\n",
        "import matplotlib.pyplot as plt\n",
        "\n",
        "import tensorflow as tf \n",
        "import tensorboard as tb \n",
        "tf.io.gfile = tb.compat.tensorflow_stub.io.gfile"
      ],
      "metadata": {
        "id": "nD7EzC41nWHW"
      },
      "execution_count": 6,
      "outputs": []
    },
    {
      "cell_type": "code",
      "source": [
        "import itertools\n",
        "import os\n",
        "import holidays\n",
        "\n",
        "import pandas as pd\n",
        "import numpy as np\n",
        "import matplotlib.pyplot as plt\n",
        "import seaborn as sns\n",
        "import datetime as dt"
      ],
      "metadata": {
        "id": "dA99ny-8LKFz"
      },
      "execution_count": 7,
      "outputs": []
    },
    {
      "cell_type": "markdown",
      "source": [
        "# Extented Time-Series Format"
      ],
      "metadata": {
        "id": "-EI3b3txnWZ3"
      }
    },
    {
      "cell_type": "code",
      "source": [
        "base_path = \"/content/drive/MyDrive/fastcamp/datas/bike/\"\n",
        "train = pd.read_csv(base_path + \"train.csv\")\n",
        "submission = pd.read_csv(base_path + \"sample_submission.csv\")\n",
        "save_path = \"/content/drive/MyDrive/fastcamp/datas/\""
      ],
      "metadata": {
        "id": "2d_j5nQHLymz"
      },
      "execution_count": 8,
      "outputs": []
    },
    {
      "cell_type": "code",
      "source": [
        "train['일시'] = pd.to_datetime(train['일시'], format='%Y%m%d')\n",
        "train = train.rename(columns={\"일시\": \"date\", \"광진구\": \"0\", \"동대문구\": \"1\", \"성동구\": \"2\", \"중랑구\": \"3\"})\n",
        "train = train.set_index(keys=['date'], drop=True)\n",
        "train"
      ],
      "metadata": {
        "colab": {
          "base_uri": "https://localhost:8080/",
          "height": 455
        },
        "id": "4gyLlo7_OJhS",
        "outputId": "d4a6f463-2b5a-49d9-e09c-737f6490e40e"
      },
      "execution_count": 9,
      "outputs": [
        {
          "output_type": "execute_result",
          "data": {
            "text/plain": [
              "                0      1      2      3\n",
              "date                                  \n",
              "2018-01-01  0.592  0.368  0.580  0.162\n",
              "2018-01-02  0.840  0.614  1.034  0.260\n",
              "2018-01-03  0.828  0.576  0.952  0.288\n",
              "2018-01-04  0.792  0.542  0.914  0.292\n",
              "2018-01-05  0.818  0.602  0.994  0.308\n",
              "...           ...    ...    ...    ...\n",
              "2021-12-27  3.830  3.416  2.908  2.350\n",
              "2021-12-28  4.510  3.890  3.714  2.700\n",
              "2021-12-29  4.490  3.524  3.660  2.524\n",
              "2021-12-30  4.444  3.574  3.530  2.506\n",
              "2021-12-31  3.616  3.210  2.620  2.146\n",
              "\n",
              "[1461 rows x 4 columns]"
            ],
            "text/html": [
              "\n",
              "  <div id=\"df-fc3ea4f0-e1dc-4133-babc-aa07dda801e5\">\n",
              "    <div class=\"colab-df-container\">\n",
              "      <div>\n",
              "<style scoped>\n",
              "    .dataframe tbody tr th:only-of-type {\n",
              "        vertical-align: middle;\n",
              "    }\n",
              "\n",
              "    .dataframe tbody tr th {\n",
              "        vertical-align: top;\n",
              "    }\n",
              "\n",
              "    .dataframe thead th {\n",
              "        text-align: right;\n",
              "    }\n",
              "</style>\n",
              "<table border=\"1\" class=\"dataframe\">\n",
              "  <thead>\n",
              "    <tr style=\"text-align: right;\">\n",
              "      <th></th>\n",
              "      <th>0</th>\n",
              "      <th>1</th>\n",
              "      <th>2</th>\n",
              "      <th>3</th>\n",
              "    </tr>\n",
              "    <tr>\n",
              "      <th>date</th>\n",
              "      <th></th>\n",
              "      <th></th>\n",
              "      <th></th>\n",
              "      <th></th>\n",
              "    </tr>\n",
              "  </thead>\n",
              "  <tbody>\n",
              "    <tr>\n",
              "      <th>2018-01-01</th>\n",
              "      <td>0.592</td>\n",
              "      <td>0.368</td>\n",
              "      <td>0.580</td>\n",
              "      <td>0.162</td>\n",
              "    </tr>\n",
              "    <tr>\n",
              "      <th>2018-01-02</th>\n",
              "      <td>0.840</td>\n",
              "      <td>0.614</td>\n",
              "      <td>1.034</td>\n",
              "      <td>0.260</td>\n",
              "    </tr>\n",
              "    <tr>\n",
              "      <th>2018-01-03</th>\n",
              "      <td>0.828</td>\n",
              "      <td>0.576</td>\n",
              "      <td>0.952</td>\n",
              "      <td>0.288</td>\n",
              "    </tr>\n",
              "    <tr>\n",
              "      <th>2018-01-04</th>\n",
              "      <td>0.792</td>\n",
              "      <td>0.542</td>\n",
              "      <td>0.914</td>\n",
              "      <td>0.292</td>\n",
              "    </tr>\n",
              "    <tr>\n",
              "      <th>2018-01-05</th>\n",
              "      <td>0.818</td>\n",
              "      <td>0.602</td>\n",
              "      <td>0.994</td>\n",
              "      <td>0.308</td>\n",
              "    </tr>\n",
              "    <tr>\n",
              "      <th>...</th>\n",
              "      <td>...</td>\n",
              "      <td>...</td>\n",
              "      <td>...</td>\n",
              "      <td>...</td>\n",
              "    </tr>\n",
              "    <tr>\n",
              "      <th>2021-12-27</th>\n",
              "      <td>3.830</td>\n",
              "      <td>3.416</td>\n",
              "      <td>2.908</td>\n",
              "      <td>2.350</td>\n",
              "    </tr>\n",
              "    <tr>\n",
              "      <th>2021-12-28</th>\n",
              "      <td>4.510</td>\n",
              "      <td>3.890</td>\n",
              "      <td>3.714</td>\n",
              "      <td>2.700</td>\n",
              "    </tr>\n",
              "    <tr>\n",
              "      <th>2021-12-29</th>\n",
              "      <td>4.490</td>\n",
              "      <td>3.524</td>\n",
              "      <td>3.660</td>\n",
              "      <td>2.524</td>\n",
              "    </tr>\n",
              "    <tr>\n",
              "      <th>2021-12-30</th>\n",
              "      <td>4.444</td>\n",
              "      <td>3.574</td>\n",
              "      <td>3.530</td>\n",
              "      <td>2.506</td>\n",
              "    </tr>\n",
              "    <tr>\n",
              "      <th>2021-12-31</th>\n",
              "      <td>3.616</td>\n",
              "      <td>3.210</td>\n",
              "      <td>2.620</td>\n",
              "      <td>2.146</td>\n",
              "    </tr>\n",
              "  </tbody>\n",
              "</table>\n",
              "<p>1461 rows × 4 columns</p>\n",
              "</div>\n",
              "      <button class=\"colab-df-convert\" onclick=\"convertToInteractive('df-fc3ea4f0-e1dc-4133-babc-aa07dda801e5')\"\n",
              "              title=\"Convert this dataframe to an interactive table.\"\n",
              "              style=\"display:none;\">\n",
              "        \n",
              "  <svg xmlns=\"http://www.w3.org/2000/svg\" height=\"24px\"viewBox=\"0 0 24 24\"\n",
              "       width=\"24px\">\n",
              "    <path d=\"M0 0h24v24H0V0z\" fill=\"none\"/>\n",
              "    <path d=\"M18.56 5.44l.94 2.06.94-2.06 2.06-.94-2.06-.94-.94-2.06-.94 2.06-2.06.94zm-11 1L8.5 8.5l.94-2.06 2.06-.94-2.06-.94L8.5 2.5l-.94 2.06-2.06.94zm10 10l.94 2.06.94-2.06 2.06-.94-2.06-.94-.94-2.06-.94 2.06-2.06.94z\"/><path d=\"M17.41 7.96l-1.37-1.37c-.4-.4-.92-.59-1.43-.59-.52 0-1.04.2-1.43.59L10.3 9.45l-7.72 7.72c-.78.78-.78 2.05 0 2.83L4 21.41c.39.39.9.59 1.41.59.51 0 1.02-.2 1.41-.59l7.78-7.78 2.81-2.81c.8-.78.8-2.07 0-2.86zM5.41 20L4 18.59l7.72-7.72 1.47 1.35L5.41 20z\"/>\n",
              "  </svg>\n",
              "      </button>\n",
              "      \n",
              "  <style>\n",
              "    .colab-df-container {\n",
              "      display:flex;\n",
              "      flex-wrap:wrap;\n",
              "      gap: 12px;\n",
              "    }\n",
              "\n",
              "    .colab-df-convert {\n",
              "      background-color: #E8F0FE;\n",
              "      border: none;\n",
              "      border-radius: 50%;\n",
              "      cursor: pointer;\n",
              "      display: none;\n",
              "      fill: #1967D2;\n",
              "      height: 32px;\n",
              "      padding: 0 0 0 0;\n",
              "      width: 32px;\n",
              "    }\n",
              "\n",
              "    .colab-df-convert:hover {\n",
              "      background-color: #E2EBFA;\n",
              "      box-shadow: 0px 1px 2px rgba(60, 64, 67, 0.3), 0px 1px 3px 1px rgba(60, 64, 67, 0.15);\n",
              "      fill: #174EA6;\n",
              "    }\n",
              "\n",
              "    [theme=dark] .colab-df-convert {\n",
              "      background-color: #3B4455;\n",
              "      fill: #D2E3FC;\n",
              "    }\n",
              "\n",
              "    [theme=dark] .colab-df-convert:hover {\n",
              "      background-color: #434B5C;\n",
              "      box-shadow: 0px 1px 3px 1px rgba(0, 0, 0, 0.15);\n",
              "      filter: drop-shadow(0px 1px 2px rgba(0, 0, 0, 0.3));\n",
              "      fill: #FFFFFF;\n",
              "    }\n",
              "  </style>\n",
              "\n",
              "      <script>\n",
              "        const buttonEl =\n",
              "          document.querySelector('#df-fc3ea4f0-e1dc-4133-babc-aa07dda801e5 button.colab-df-convert');\n",
              "        buttonEl.style.display =\n",
              "          google.colab.kernel.accessAllowed ? 'block' : 'none';\n",
              "\n",
              "        async function convertToInteractive(key) {\n",
              "          const element = document.querySelector('#df-fc3ea4f0-e1dc-4133-babc-aa07dda801e5');\n",
              "          const dataTable =\n",
              "            await google.colab.kernel.invokeFunction('convertToInteractive',\n",
              "                                                     [key], {});\n",
              "          if (!dataTable) return;\n",
              "\n",
              "          const docLinkHtml = 'Like what you see? Visit the ' +\n",
              "            '<a target=\"_blank\" href=https://colab.research.google.com/notebooks/data_table.ipynb>data table notebook</a>'\n",
              "            + ' to learn more about interactive tables.';\n",
              "          element.innerHTML = '';\n",
              "          dataTable['output_type'] = 'display_data';\n",
              "          await google.colab.output.renderOutput(dataTable, element);\n",
              "          const docLink = document.createElement('div');\n",
              "          docLink.innerHTML = docLinkHtml;\n",
              "          element.appendChild(docLink);\n",
              "        }\n",
              "      </script>\n",
              "    </div>\n",
              "  </div>\n",
              "  "
            ]
          },
          "metadata": {},
          "execution_count": 9
        }
      ]
    },
    {
      "cell_type": "code",
      "source": [
        "# 데이터의 시작 시점을 기억\n",
        "earliest_time = train.index.min() \n",
        "earliest_time"
      ],
      "metadata": {
        "colab": {
          "base_uri": "https://localhost:8080/"
        },
        "id": "P5c0K45wz2XI",
        "outputId": "d1e130d9-35f1-4f41-9899-7c920494a397"
      },
      "execution_count": 10,
      "outputs": [
        {
          "output_type": "execute_result",
          "data": {
            "text/plain": [
              "Timestamp('2018-01-01 00:00:00')"
            ]
          },
          "metadata": {},
          "execution_count": 10
        }
      ]
    },
    {
      "cell_type": "code",
      "source": [
        "df_list = []\n",
        "\n",
        "for region in train:\n",
        "    # label = region\n",
        "    ts = train[region]\n",
        "    # display(ts)\n",
        "    \n",
        "    # tmp 생성\n",
        "    # date도 생성 -> month, day, hour 등 시간에 관련 된 모든 데이터 갖고있다.\n",
        "    tmp = pd.DataFrame({'usage': ts})\n",
        "    date = tmp.index\n",
        "\n",
        "    # 시간 변화 대한 정보들 컬럼들도 만들어 준다.  \n",
        "    tmp['days_from_start'] = (date - earliest_time).days\n",
        "    tmp['date'] = date\n",
        "\n",
        "    # 시간 자체에 대한 정보들 컬럼들도 만들어 준다.  \n",
        "    tmp['date'] = date\n",
        "    tmp['day'] = date.day\n",
        "    tmp['day_of_week'] = date.dayofweek\n",
        "    tmp['month'] = date.month\n",
        "    tmp['year'] = date.year\n",
        "\n",
        "    # 고객정보 컬럼도 만들어준다. \n",
        "    tmp['region'] = region\n",
        "\n",
        "    # stack all time series vertically\n",
        "    df_list.append(tmp)\n",
        "\n",
        "demand_df = pd.concat(df_list).reset_index(drop=True)\n",
        "demand_df"
      ],
      "metadata": {
        "colab": {
          "base_uri": "https://localhost:8080/",
          "height": 424
        },
        "id": "vazZWmcBMaGz",
        "outputId": "cab9f6ba-c5d3-4442-e14e-943c51796b7e"
      },
      "execution_count": 11,
      "outputs": [
        {
          "output_type": "execute_result",
          "data": {
            "text/plain": [
              "      usage  days_from_start       date  day  day_of_week  month  year region\n",
              "0     0.592                0 2018-01-01    1            0      1  2018      0\n",
              "1     0.840                1 2018-01-02    2            1      1  2018      0\n",
              "2     0.828                2 2018-01-03    3            2      1  2018      0\n",
              "3     0.792                3 2018-01-04    4            3      1  2018      0\n",
              "4     0.818                4 2018-01-05    5            4      1  2018      0\n",
              "...     ...              ...        ...  ...          ...    ...   ...    ...\n",
              "5839  2.350             1456 2021-12-27   27            0     12  2021      3\n",
              "5840  2.700             1457 2021-12-28   28            1     12  2021      3\n",
              "5841  2.524             1458 2021-12-29   29            2     12  2021      3\n",
              "5842  2.506             1459 2021-12-30   30            3     12  2021      3\n",
              "5843  2.146             1460 2021-12-31   31            4     12  2021      3\n",
              "\n",
              "[5844 rows x 8 columns]"
            ],
            "text/html": [
              "\n",
              "  <div id=\"df-e49999a0-dbc2-4cd3-83f4-8b7b7174d964\">\n",
              "    <div class=\"colab-df-container\">\n",
              "      <div>\n",
              "<style scoped>\n",
              "    .dataframe tbody tr th:only-of-type {\n",
              "        vertical-align: middle;\n",
              "    }\n",
              "\n",
              "    .dataframe tbody tr th {\n",
              "        vertical-align: top;\n",
              "    }\n",
              "\n",
              "    .dataframe thead th {\n",
              "        text-align: right;\n",
              "    }\n",
              "</style>\n",
              "<table border=\"1\" class=\"dataframe\">\n",
              "  <thead>\n",
              "    <tr style=\"text-align: right;\">\n",
              "      <th></th>\n",
              "      <th>usage</th>\n",
              "      <th>days_from_start</th>\n",
              "      <th>date</th>\n",
              "      <th>day</th>\n",
              "      <th>day_of_week</th>\n",
              "      <th>month</th>\n",
              "      <th>year</th>\n",
              "      <th>region</th>\n",
              "    </tr>\n",
              "  </thead>\n",
              "  <tbody>\n",
              "    <tr>\n",
              "      <th>0</th>\n",
              "      <td>0.592</td>\n",
              "      <td>0</td>\n",
              "      <td>2018-01-01</td>\n",
              "      <td>1</td>\n",
              "      <td>0</td>\n",
              "      <td>1</td>\n",
              "      <td>2018</td>\n",
              "      <td>0</td>\n",
              "    </tr>\n",
              "    <tr>\n",
              "      <th>1</th>\n",
              "      <td>0.840</td>\n",
              "      <td>1</td>\n",
              "      <td>2018-01-02</td>\n",
              "      <td>2</td>\n",
              "      <td>1</td>\n",
              "      <td>1</td>\n",
              "      <td>2018</td>\n",
              "      <td>0</td>\n",
              "    </tr>\n",
              "    <tr>\n",
              "      <th>2</th>\n",
              "      <td>0.828</td>\n",
              "      <td>2</td>\n",
              "      <td>2018-01-03</td>\n",
              "      <td>3</td>\n",
              "      <td>2</td>\n",
              "      <td>1</td>\n",
              "      <td>2018</td>\n",
              "      <td>0</td>\n",
              "    </tr>\n",
              "    <tr>\n",
              "      <th>3</th>\n",
              "      <td>0.792</td>\n",
              "      <td>3</td>\n",
              "      <td>2018-01-04</td>\n",
              "      <td>4</td>\n",
              "      <td>3</td>\n",
              "      <td>1</td>\n",
              "      <td>2018</td>\n",
              "      <td>0</td>\n",
              "    </tr>\n",
              "    <tr>\n",
              "      <th>4</th>\n",
              "      <td>0.818</td>\n",
              "      <td>4</td>\n",
              "      <td>2018-01-05</td>\n",
              "      <td>5</td>\n",
              "      <td>4</td>\n",
              "      <td>1</td>\n",
              "      <td>2018</td>\n",
              "      <td>0</td>\n",
              "    </tr>\n",
              "    <tr>\n",
              "      <th>...</th>\n",
              "      <td>...</td>\n",
              "      <td>...</td>\n",
              "      <td>...</td>\n",
              "      <td>...</td>\n",
              "      <td>...</td>\n",
              "      <td>...</td>\n",
              "      <td>...</td>\n",
              "      <td>...</td>\n",
              "    </tr>\n",
              "    <tr>\n",
              "      <th>5839</th>\n",
              "      <td>2.350</td>\n",
              "      <td>1456</td>\n",
              "      <td>2021-12-27</td>\n",
              "      <td>27</td>\n",
              "      <td>0</td>\n",
              "      <td>12</td>\n",
              "      <td>2021</td>\n",
              "      <td>3</td>\n",
              "    </tr>\n",
              "    <tr>\n",
              "      <th>5840</th>\n",
              "      <td>2.700</td>\n",
              "      <td>1457</td>\n",
              "      <td>2021-12-28</td>\n",
              "      <td>28</td>\n",
              "      <td>1</td>\n",
              "      <td>12</td>\n",
              "      <td>2021</td>\n",
              "      <td>3</td>\n",
              "    </tr>\n",
              "    <tr>\n",
              "      <th>5841</th>\n",
              "      <td>2.524</td>\n",
              "      <td>1458</td>\n",
              "      <td>2021-12-29</td>\n",
              "      <td>29</td>\n",
              "      <td>2</td>\n",
              "      <td>12</td>\n",
              "      <td>2021</td>\n",
              "      <td>3</td>\n",
              "    </tr>\n",
              "    <tr>\n",
              "      <th>5842</th>\n",
              "      <td>2.506</td>\n",
              "      <td>1459</td>\n",
              "      <td>2021-12-30</td>\n",
              "      <td>30</td>\n",
              "      <td>3</td>\n",
              "      <td>12</td>\n",
              "      <td>2021</td>\n",
              "      <td>3</td>\n",
              "    </tr>\n",
              "    <tr>\n",
              "      <th>5843</th>\n",
              "      <td>2.146</td>\n",
              "      <td>1460</td>\n",
              "      <td>2021-12-31</td>\n",
              "      <td>31</td>\n",
              "      <td>4</td>\n",
              "      <td>12</td>\n",
              "      <td>2021</td>\n",
              "      <td>3</td>\n",
              "    </tr>\n",
              "  </tbody>\n",
              "</table>\n",
              "<p>5844 rows × 8 columns</p>\n",
              "</div>\n",
              "      <button class=\"colab-df-convert\" onclick=\"convertToInteractive('df-e49999a0-dbc2-4cd3-83f4-8b7b7174d964')\"\n",
              "              title=\"Convert this dataframe to an interactive table.\"\n",
              "              style=\"display:none;\">\n",
              "        \n",
              "  <svg xmlns=\"http://www.w3.org/2000/svg\" height=\"24px\"viewBox=\"0 0 24 24\"\n",
              "       width=\"24px\">\n",
              "    <path d=\"M0 0h24v24H0V0z\" fill=\"none\"/>\n",
              "    <path d=\"M18.56 5.44l.94 2.06.94-2.06 2.06-.94-2.06-.94-.94-2.06-.94 2.06-2.06.94zm-11 1L8.5 8.5l.94-2.06 2.06-.94-2.06-.94L8.5 2.5l-.94 2.06-2.06.94zm10 10l.94 2.06.94-2.06 2.06-.94-2.06-.94-.94-2.06-.94 2.06-2.06.94z\"/><path d=\"M17.41 7.96l-1.37-1.37c-.4-.4-.92-.59-1.43-.59-.52 0-1.04.2-1.43.59L10.3 9.45l-7.72 7.72c-.78.78-.78 2.05 0 2.83L4 21.41c.39.39.9.59 1.41.59.51 0 1.02-.2 1.41-.59l7.78-7.78 2.81-2.81c.8-.78.8-2.07 0-2.86zM5.41 20L4 18.59l7.72-7.72 1.47 1.35L5.41 20z\"/>\n",
              "  </svg>\n",
              "      </button>\n",
              "      \n",
              "  <style>\n",
              "    .colab-df-container {\n",
              "      display:flex;\n",
              "      flex-wrap:wrap;\n",
              "      gap: 12px;\n",
              "    }\n",
              "\n",
              "    .colab-df-convert {\n",
              "      background-color: #E8F0FE;\n",
              "      border: none;\n",
              "      border-radius: 50%;\n",
              "      cursor: pointer;\n",
              "      display: none;\n",
              "      fill: #1967D2;\n",
              "      height: 32px;\n",
              "      padding: 0 0 0 0;\n",
              "      width: 32px;\n",
              "    }\n",
              "\n",
              "    .colab-df-convert:hover {\n",
              "      background-color: #E2EBFA;\n",
              "      box-shadow: 0px 1px 2px rgba(60, 64, 67, 0.3), 0px 1px 3px 1px rgba(60, 64, 67, 0.15);\n",
              "      fill: #174EA6;\n",
              "    }\n",
              "\n",
              "    [theme=dark] .colab-df-convert {\n",
              "      background-color: #3B4455;\n",
              "      fill: #D2E3FC;\n",
              "    }\n",
              "\n",
              "    [theme=dark] .colab-df-convert:hover {\n",
              "      background-color: #434B5C;\n",
              "      box-shadow: 0px 1px 3px 1px rgba(0, 0, 0, 0.15);\n",
              "      filter: drop-shadow(0px 1px 2px rgba(0, 0, 0, 0.3));\n",
              "      fill: #FFFFFF;\n",
              "    }\n",
              "  </style>\n",
              "\n",
              "      <script>\n",
              "        const buttonEl =\n",
              "          document.querySelector('#df-e49999a0-dbc2-4cd3-83f4-8b7b7174d964 button.colab-df-convert');\n",
              "        buttonEl.style.display =\n",
              "          google.colab.kernel.accessAllowed ? 'block' : 'none';\n",
              "\n",
              "        async function convertToInteractive(key) {\n",
              "          const element = document.querySelector('#df-e49999a0-dbc2-4cd3-83f4-8b7b7174d964');\n",
              "          const dataTable =\n",
              "            await google.colab.kernel.invokeFunction('convertToInteractive',\n",
              "                                                     [key], {});\n",
              "          if (!dataTable) return;\n",
              "\n",
              "          const docLinkHtml = 'Like what you see? Visit the ' +\n",
              "            '<a target=\"_blank\" href=https://colab.research.google.com/notebooks/data_table.ipynb>data table notebook</a>'\n",
              "            + ' to learn more about interactive tables.';\n",
              "          element.innerHTML = '';\n",
              "          dataTable['output_type'] = 'display_data';\n",
              "          await google.colab.output.renderOutput(dataTable, element);\n",
              "          const docLink = document.createElement('div');\n",
              "          docLink.innerHTML = docLinkHtml;\n",
              "          element.appendChild(docLink);\n",
              "        }\n",
              "      </script>\n",
              "    </div>\n",
              "  </div>\n",
              "  "
            ]
          },
          "metadata": {},
          "execution_count": 11
        }
      ]
    },
    {
      "cell_type": "code",
      "source": [
        "# demand_df.query(\"days_from_start==1096\")\n",
        "# demand_df[['region','usage']].groupby('region').mean()"
      ],
      "metadata": {
        "id": "6aNHZMtfn7tW"
      },
      "execution_count": 12,
      "outputs": []
    },
    {
      "cell_type": "code",
      "source": [
        "# import seaborn as sns\n",
        "# import matplotlib.pyplot as plt\n",
        "\n",
        "# #plt.rcParams.update(plt.rcParamsDefault)\n",
        "# sns.set_style('darkgrid')\n",
        "# sns.color_palette(\"tab10\")\n",
        "\n",
        "# fig, ax = plt.subplots(figsize=(13, 5))\n",
        "\n",
        "# sns.lineplot(data=demand_df[demand_df['month'] == 1], \n",
        "#              x='date', \n",
        "#              y='usage', \n",
        "#              hue='region', \n",
        "#              legend='full',\n",
        "#              palette='husl').set_title('usage per consumers')\n",
        "\n",
        "# ax.set_xlabel(\"Date\", fontdict={\"color\":  \"black\", \"size\": 13} )\n",
        "# ax.set_ylabel(\"bike usage (thousand)\", fontdict={\"color\":  \"black\", \"size\": 13})\n",
        "# ax.tick_params(axis = 'both', which = 'major', labelsize = 10)\n",
        "# ax.set_title(label = \"bike usage of each regions\", fontdict={\"color\":  \"black\", \"size\": 15})"
      ],
      "metadata": {
        "id": "KP9YqMEq1SDE"
      },
      "execution_count": null,
      "outputs": []
    },
    {
      "cell_type": "markdown",
      "source": [
        "### Create The Time Series Dataset"
      ],
      "metadata": {
        "id": "tADwNRM4-AYU"
      }
    },
    {
      "cell_type": "code",
      "source": [
        "#Hyperparameters\n",
        "#batch size=64\n",
        "#number heads=4, hidden sizes=160, lr=0.001, gr_clip=0.1\n",
        "\n",
        "# 1년 사용량 예측\n",
        "max_prediction_length = 334\n",
        "\n",
        "# 3년을 lookback window 로 설정: 1*365\n",
        "max_encoder_length = 365\n",
        "\n",
        "# train data 설정\n",
        "training_cutoff = demand_df[\"days_from_start\"].max() - max_prediction_length\n",
        "training = TimeSeriesDataSet(\n",
        "    # train dataframe 설정\n",
        "    # idx 설정\n",
        "    demand_df[lambda x: x.days_from_start <= training_cutoff],\n",
        "    time_idx=\"days_from_start\",\n",
        "\n",
        "    # target 설정\n",
        "    target=\"usage\",\n",
        "\n",
        "    # 그룹 설정\n",
        "    group_ids=[\"region\"],\n",
        "\n",
        "    # encoder, prediciton\n",
        "    min_encoder_length=max_encoder_length // 2, \n",
        "    max_encoder_length=max_encoder_length,\n",
        "    min_prediction_length=30,\n",
        "    max_prediction_length=max_prediction_length,\n",
        "\n",
        "    # 각 컬럼이 어떤 유형의 변수인지 구분\n",
        "    static_categoricals=[\"region\"],\n",
        "    time_varying_known_reals=[\"days_from_start\",\"date\",\"day\",\"day_of_week\", \"month\", \"year\"],\n",
        "    time_varying_unknown_reals=['usage'],\n",
        "\n",
        "    add_relative_time_idx=True,\n",
        "    add_target_scales=True,\n",
        "    add_encoder_length=True,\n",
        "\n",
        ")"
      ],
      "metadata": {
        "id": "CnwEwYeO6BG_"
      },
      "execution_count": 14,
      "outputs": []
    },
    {
      "cell_type": "markdown",
      "source": [
        "### Train and Validation Dataloaders"
      ],
      "metadata": {
        "id": "fJdn__EOJ_iP"
      }
    },
    {
      "cell_type": "code",
      "source": [
        "validation = TimeSeriesDataSet.from_dataset(training, demand_df, predict=True, stop_randomization=True)\n",
        "\n",
        "# create dataloaders for our model\n",
        "batch_size = 128 \n",
        "# if you have a strong GPU, feel free to increase the number of workers  \n",
        "train_dataloader = training.to_dataloader(train=True, batch_size=batch_size, num_workers=0)\n",
        "val_dataloader = validation.to_dataloader(train=False, batch_size=batch_size*10, num_workers=0)"
      ],
      "metadata": {
        "id": "t9YcZ03BKB-d"
      },
      "execution_count": 15,
      "outputs": []
    },
    {
      "cell_type": "markdown",
      "source": [
        "The **training.index** and **validation.index** show how our training and validation instances are sliced.   \n",
        "For example, **sequence_length**= **max_encoder_length** + **max_prediction_length**"
      ],
      "metadata": {
        "id": "rRgxSyNB_OjZ"
      }
    },
    {
      "cell_type": "code",
      "source": [
        "validation.index"
      ],
      "metadata": {
        "colab": {
          "base_uri": "https://localhost:8080/",
          "height": 175
        },
        "id": "4XJsnhcuL3v2",
        "outputId": "ace217ea-2c74-4e78-8bce-d4ed5110a2bf"
      },
      "execution_count": 16,
      "outputs": [
        {
          "output_type": "execute_result",
          "data": {
            "text/plain": [
              "      time_first  time_last  time_diff_to_next  index_start  time  count  \\\n",
              "762            0       1460                  1          762   762   1461   \n",
              "2223           0       1460                  1         2223   762   1461   \n",
              "3684           0       1460                  1         3684   762   1461   \n",
              "5145           0       1460                  1         5145   762   1461   \n",
              "\n",
              "      sequence_id  index_end  sequence_length  \n",
              "762             0       1460              699  \n",
              "2223            1       2921              699  \n",
              "3684            2       4382              699  \n",
              "5145            3       5843              699  "
            ],
            "text/html": [
              "\n",
              "  <div id=\"df-c4beea59-0ef8-4717-a2db-3337cd2c4a25\">\n",
              "    <div class=\"colab-df-container\">\n",
              "      <div>\n",
              "<style scoped>\n",
              "    .dataframe tbody tr th:only-of-type {\n",
              "        vertical-align: middle;\n",
              "    }\n",
              "\n",
              "    .dataframe tbody tr th {\n",
              "        vertical-align: top;\n",
              "    }\n",
              "\n",
              "    .dataframe thead th {\n",
              "        text-align: right;\n",
              "    }\n",
              "</style>\n",
              "<table border=\"1\" class=\"dataframe\">\n",
              "  <thead>\n",
              "    <tr style=\"text-align: right;\">\n",
              "      <th></th>\n",
              "      <th>time_first</th>\n",
              "      <th>time_last</th>\n",
              "      <th>time_diff_to_next</th>\n",
              "      <th>index_start</th>\n",
              "      <th>time</th>\n",
              "      <th>count</th>\n",
              "      <th>sequence_id</th>\n",
              "      <th>index_end</th>\n",
              "      <th>sequence_length</th>\n",
              "    </tr>\n",
              "  </thead>\n",
              "  <tbody>\n",
              "    <tr>\n",
              "      <th>762</th>\n",
              "      <td>0</td>\n",
              "      <td>1460</td>\n",
              "      <td>1</td>\n",
              "      <td>762</td>\n",
              "      <td>762</td>\n",
              "      <td>1461</td>\n",
              "      <td>0</td>\n",
              "      <td>1460</td>\n",
              "      <td>699</td>\n",
              "    </tr>\n",
              "    <tr>\n",
              "      <th>2223</th>\n",
              "      <td>0</td>\n",
              "      <td>1460</td>\n",
              "      <td>1</td>\n",
              "      <td>2223</td>\n",
              "      <td>762</td>\n",
              "      <td>1461</td>\n",
              "      <td>1</td>\n",
              "      <td>2921</td>\n",
              "      <td>699</td>\n",
              "    </tr>\n",
              "    <tr>\n",
              "      <th>3684</th>\n",
              "      <td>0</td>\n",
              "      <td>1460</td>\n",
              "      <td>1</td>\n",
              "      <td>3684</td>\n",
              "      <td>762</td>\n",
              "      <td>1461</td>\n",
              "      <td>2</td>\n",
              "      <td>4382</td>\n",
              "      <td>699</td>\n",
              "    </tr>\n",
              "    <tr>\n",
              "      <th>5145</th>\n",
              "      <td>0</td>\n",
              "      <td>1460</td>\n",
              "      <td>1</td>\n",
              "      <td>5145</td>\n",
              "      <td>762</td>\n",
              "      <td>1461</td>\n",
              "      <td>3</td>\n",
              "      <td>5843</td>\n",
              "      <td>699</td>\n",
              "    </tr>\n",
              "  </tbody>\n",
              "</table>\n",
              "</div>\n",
              "      <button class=\"colab-df-convert\" onclick=\"convertToInteractive('df-c4beea59-0ef8-4717-a2db-3337cd2c4a25')\"\n",
              "              title=\"Convert this dataframe to an interactive table.\"\n",
              "              style=\"display:none;\">\n",
              "        \n",
              "  <svg xmlns=\"http://www.w3.org/2000/svg\" height=\"24px\"viewBox=\"0 0 24 24\"\n",
              "       width=\"24px\">\n",
              "    <path d=\"M0 0h24v24H0V0z\" fill=\"none\"/>\n",
              "    <path d=\"M18.56 5.44l.94 2.06.94-2.06 2.06-.94-2.06-.94-.94-2.06-.94 2.06-2.06.94zm-11 1L8.5 8.5l.94-2.06 2.06-.94-2.06-.94L8.5 2.5l-.94 2.06-2.06.94zm10 10l.94 2.06.94-2.06 2.06-.94-2.06-.94-.94-2.06-.94 2.06-2.06.94z\"/><path d=\"M17.41 7.96l-1.37-1.37c-.4-.4-.92-.59-1.43-.59-.52 0-1.04.2-1.43.59L10.3 9.45l-7.72 7.72c-.78.78-.78 2.05 0 2.83L4 21.41c.39.39.9.59 1.41.59.51 0 1.02-.2 1.41-.59l7.78-7.78 2.81-2.81c.8-.78.8-2.07 0-2.86zM5.41 20L4 18.59l7.72-7.72 1.47 1.35L5.41 20z\"/>\n",
              "  </svg>\n",
              "      </button>\n",
              "      \n",
              "  <style>\n",
              "    .colab-df-container {\n",
              "      display:flex;\n",
              "      flex-wrap:wrap;\n",
              "      gap: 12px;\n",
              "    }\n",
              "\n",
              "    .colab-df-convert {\n",
              "      background-color: #E8F0FE;\n",
              "      border: none;\n",
              "      border-radius: 50%;\n",
              "      cursor: pointer;\n",
              "      display: none;\n",
              "      fill: #1967D2;\n",
              "      height: 32px;\n",
              "      padding: 0 0 0 0;\n",
              "      width: 32px;\n",
              "    }\n",
              "\n",
              "    .colab-df-convert:hover {\n",
              "      background-color: #E2EBFA;\n",
              "      box-shadow: 0px 1px 2px rgba(60, 64, 67, 0.3), 0px 1px 3px 1px rgba(60, 64, 67, 0.15);\n",
              "      fill: #174EA6;\n",
              "    }\n",
              "\n",
              "    [theme=dark] .colab-df-convert {\n",
              "      background-color: #3B4455;\n",
              "      fill: #D2E3FC;\n",
              "    }\n",
              "\n",
              "    [theme=dark] .colab-df-convert:hover {\n",
              "      background-color: #434B5C;\n",
              "      box-shadow: 0px 1px 3px 1px rgba(0, 0, 0, 0.15);\n",
              "      filter: drop-shadow(0px 1px 2px rgba(0, 0, 0, 0.3));\n",
              "      fill: #FFFFFF;\n",
              "    }\n",
              "  </style>\n",
              "\n",
              "      <script>\n",
              "        const buttonEl =\n",
              "          document.querySelector('#df-c4beea59-0ef8-4717-a2db-3337cd2c4a25 button.colab-df-convert');\n",
              "        buttonEl.style.display =\n",
              "          google.colab.kernel.accessAllowed ? 'block' : 'none';\n",
              "\n",
              "        async function convertToInteractive(key) {\n",
              "          const element = document.querySelector('#df-c4beea59-0ef8-4717-a2db-3337cd2c4a25');\n",
              "          const dataTable =\n",
              "            await google.colab.kernel.invokeFunction('convertToInteractive',\n",
              "                                                     [key], {});\n",
              "          if (!dataTable) return;\n",
              "\n",
              "          const docLinkHtml = 'Like what you see? Visit the ' +\n",
              "            '<a target=\"_blank\" href=https://colab.research.google.com/notebooks/data_table.ipynb>data table notebook</a>'\n",
              "            + ' to learn more about interactive tables.';\n",
              "          element.innerHTML = '';\n",
              "          dataTable['output_type'] = 'display_data';\n",
              "          await google.colab.output.renderOutput(dataTable, element);\n",
              "          const docLink = document.createElement('div');\n",
              "          docLink.innerHTML = docLinkHtml;\n",
              "          element.appendChild(docLink);\n",
              "        }\n",
              "      </script>\n",
              "    </div>\n",
              "  </div>\n",
              "  "
            ]
          },
          "metadata": {},
          "execution_count": 16
        }
      ]
    },
    {
      "cell_type": "markdown",
      "source": [
        "### Baseline Model"
      ],
      "metadata": {
        "id": "D3YNUa386XQb"
      }
    },
    {
      "cell_type": "code",
      "source": [
        "# actuals = torch.cat([y for x, (y, weight) in iter(val_dataloader)])\n",
        "# baseline_predictions = Baseline().predict(val_dataloader)\n",
        "# (actuals - baseline_predictions).abs().mean().item()"
      ],
      "metadata": {
        "id": "Ljmz68y4-YIS"
      },
      "execution_count": 17,
      "outputs": []
    },
    {
      "cell_type": "markdown",
      "source": [
        "### Build TFT model"
      ],
      "metadata": {
        "id": "MnrcOFaJ_oJp"
      }
    },
    {
      "cell_type": "code",
      "source": [
        "early_stop_callback=EarlyStopping(monitor=\"val_loss\", min_delta=0, patience=10, verbose=False, mode=\"min\")\n",
        "lr_logger=LearningRateMonitor()  \n",
        "logger=TensorBoardLogger(\"lightning_logs\") \n",
        "\n",
        "trainer = pl.Trainer(\n",
        "    max_epochs=30,\n",
        "    accelerator='gpu',\n",
        "    enable_model_summary=True,\n",
        "    gradient_clip_val=0.1,\n",
        "    limit_train_batches=30,  \n",
        "    callbacks=[lr_logger, early_stop_callback],\n",
        "    logger=logger,\n",
        ")\n",
        "\n",
        "tft = TemporalFusionTransformer.from_dataset(\n",
        "    training,\n",
        "    learning_rate=0.01,\n",
        "    hidden_size=16,\n",
        "    attention_head_size=1,\n",
        "    dropout=0.1,\n",
        "    hidden_continuous_size=8,\n",
        "    output_size=1, \n",
        "    loss=MAE(),\n",
        "    log_interval=10,  \n",
        "    reduce_on_plateau_patience=4,\n",
        ")\n",
        "print(f\"Number of parameters in network: {tft.size()/1e3:.1f}k\")"
      ],
      "metadata": {
        "id": "40pMwi1k_GDB",
        "colab": {
          "base_uri": "https://localhost:8080/"
        },
        "outputId": "1a50139d-4a9d-47ae-fc5a-2ff2c1c415d0"
      },
      "execution_count": 19,
      "outputs": [
        {
          "output_type": "stream",
          "name": "stderr",
          "text": [
            "INFO:pytorch_lightning.utilities.rank_zero:GPU available: True (cuda), used: True\n",
            "INFO:pytorch_lightning.utilities.rank_zero:TPU available: False, using: 0 TPU cores\n",
            "INFO:pytorch_lightning.utilities.rank_zero:IPU available: False, using: 0 IPUs\n",
            "INFO:pytorch_lightning.utilities.rank_zero:HPU available: False, using: 0 HPUs\n"
          ]
        },
        {
          "output_type": "stream",
          "name": "stdout",
          "text": [
            "Number of parameters in network: 25.4k\n"
          ]
        }
      ]
    },
    {
      "cell_type": "code",
      "source": [
        "# fit network\n",
        "trainer.fit(\n",
        "    tft,\n",
        "    train_dataloaders=train_dataloader,\n",
        "    val_dataloaders=val_dataloader,\n",
        ")"
      ],
      "metadata": {
        "id": "ReCifR4j6CmT"
      },
      "execution_count": null,
      "outputs": []
    },
    {
      "cell_type": "code",
      "source": [
        "best_model_path = trainer.checkpoint_callback.best_model_path\n",
        "print(best_model_path)\n",
        "best_tft = TemporalFusionTransformer.load_from_checkpoint(best_model_path)"
      ],
      "metadata": {
        "colab": {
          "base_uri": "https://localhost:8080/"
        },
        "id": "1PKDfI9N_qOu",
        "outputId": "c4c40e34-3e02-48fd-970d-ac1f98350f8e"
      },
      "execution_count": 21,
      "outputs": [
        {
          "output_type": "stream",
          "name": "stdout",
          "text": [
            "lightning_logs/lightning_logs/version_0/checkpoints/epoch=13-step=420.ckpt\n"
          ]
        },
        {
          "output_type": "stream",
          "name": "stderr",
          "text": [
            "/usr/local/lib/python3.8/dist-packages/pytorch_lightning/utilities/parsing.py:262: UserWarning: Attribute 'loss' is an instance of `nn.Module` and is already saved during checkpointing. It is recommended to ignore them using `self.save_hyperparameters(ignore=['loss'])`.\n",
            "  rank_zero_warn(\n",
            "/usr/local/lib/python3.8/dist-packages/pytorch_lightning/utilities/parsing.py:262: UserWarning: Attribute 'logging_metrics' is an instance of `nn.Module` and is already saved during checkpointing. It is recommended to ignore them using `self.save_hyperparameters(ignore=['logging_metrics'])`.\n",
            "  rank_zero_warn(\n"
          ]
        }
      ]
    },
    {
      "cell_type": "markdown",
      "source": [
        "### out of sample prediction\n",
        "    - max_prediction_length = 334 --> Jan to Nov, excepting Dec\n",
        "    - max_encoder_length = 365"
      ],
      "metadata": {
        "id": "TCqeoHPeG0nl"
      }
    },
    {
      "cell_type": "code",
      "source": [
        "max_prediction_length = 334"
      ],
      "metadata": {
        "id": "D5rF9GIjEpuL"
      },
      "execution_count": 22,
      "outputs": []
    },
    {
      "cell_type": "code",
      "source": [
        "max_encoder_length = 365"
      ],
      "metadata": {
        "id": "o_axi3-nh0Dn"
      },
      "execution_count": 23,
      "outputs": []
    },
    {
      "cell_type": "code",
      "source": [
        "#encoder data is the last lookback window: we get the last 1 year 365 for all 4 regions =  total 365*4 datapoints\n",
        "encoder_data = demand_df[lambda x: x.days_from_start > x.days_from_start.max() - max_encoder_length]\n",
        "last_data = demand_df[lambda x: x.days_from_start == x.days_from_start.max()]\n",
        "#display(encoder_data)\n",
        "#display(last_data)\n",
        "\n",
        "# decoder_data is the new dataframe for which we will create predictions. \n",
        "# decoder_data df should be max_prediction_length*region: 334*4=1336 datapoints long: 1336 datapoints for each cosnumer\n",
        "# we create it by repeating the last 3*365 observation of every region 334 times since we do not really have new test data\n",
        "# and later we fix the columns\n",
        "decoder_data = pd.concat(\n",
        "    [last_data.assign(date=lambda x: x.date + pd.Timedelta(days=i)) for i in range(1, max_prediction_length + 1)],\n",
        "    ignore_index=True,\n",
        ")\n",
        "\n",
        "#fix the new columns\n",
        "decoder_data[\"days_from_start\"] = (decoder_data[\"date\"] - earliest_time).dt.days\n",
        "decoder_data['days_from_start'] = decoder_data['days_from_start'].astype('int')\n",
        "decoder_data[\"days_from_start\"] += encoder_data[\"days_from_start\"].max() + 1 - decoder_data[\"days_from_start\"].min()\n",
        "\n",
        "decoder_data[\"year\"] = decoder_data[\"date\"].dt.year.astype(np.int64)\n",
        "decoder_data[\"month\"] = decoder_data[\"date\"].dt.month.astype(np.int64)\n",
        "decoder_data[\"day\"] = decoder_data[\"date\"].dt.day.astype(np.int64)\n",
        "decoder_data[\"day_of_week\"] = decoder_data[\"date\"].dt.dayofweek.astype(np.int64)\n",
        "#display(decoder_data)\n",
        "\n",
        "new_prediction_data = pd.concat([encoder_data, decoder_data], ignore_index=True)\n",
        "fig, ax = plt.subplots(figsize=(10, 5))\n",
        "\n",
        "new_prediction_data=new_prediction_data.query(\"region == '0'\")\n",
        "new_raw_predictions, new_x = best_tft.predict(new_prediction_data, mode=\"raw\", return_x=True)\n",
        "best_tft.plot_prediction(new_x, new_raw_predictions, idx=0, show_future_observed=False, ax=ax);"
      ],
      "metadata": {
        "colab": {
          "base_uri": "https://localhost:8080/",
          "height": 444
        },
        "id": "TV0O6OBe5D8G",
        "outputId": "f928f621-ae2d-42d2-f882-bade6045e7d9"
      },
      "execution_count": 25,
      "outputs": [
        {
          "output_type": "stream",
          "name": "stderr",
          "text": [
            "/usr/local/lib/python3.8/dist-packages/sklearn/base.py:450: UserWarning: X does not have valid feature names, but StandardScaler was fitted with feature names\n",
            "  warnings.warn(\n",
            "/usr/local/lib/python3.8/dist-packages/sklearn/base.py:450: UserWarning: X does not have valid feature names, but StandardScaler was fitted with feature names\n",
            "  warnings.warn(\n"
          ]
        },
        {
          "output_type": "display_data",
          "data": {
            "text/plain": [
              "<Figure size 720x360 with 2 Axes>"
            ],
            "image/png": "[encoded data removed]"
          },
          "metadata": {
            "needs_background": "light"
          }
        }
      ]
    },
    {
      "cell_type": "code",
      "source": [
        "best_tft.format_outputs(new_prediction_data)"
      ],
      "metadata": {
        "colab": {
          "base_uri": "https://localhost:8080/",
          "height": 287
        },
        "id": "2C4vmgKT7DF0",
        "outputId": "e7aae959-9f3a-47b0-9eea-c8037c4c5297"
      },
      "execution_count": null,
      "outputs": [
        {
          "output_type": "error",
          "ename": "AttributeError",
          "evalue": "ignored",
          "traceback": [
            "\u001b[0;31m---------------------------------------------------------------------------\u001b[0m",
            "\u001b[0;31mAttributeError\u001b[0m                            Traceback (most recent call last)",
            "\u001b[0;32m<ipython-input-24-03d62133d758>\u001b[0m in \u001b[0;36m<module>\u001b[0;34m\u001b[0m\n\u001b[0;32m----> 1\u001b[0;31m \u001b[0mbest_tft\u001b[0m\u001b[0;34m.\u001b[0m\u001b[0mformat_outputs\u001b[0m\u001b[0;34m(\u001b[0m\u001b[0mnew_prediction_data\u001b[0m\u001b[0;34m)\u001b[0m\u001b[0;34m\u001b[0m\u001b[0;34m\u001b[0m\u001b[0m\n\u001b[0m",
            "\u001b[0;32m/usr/local/lib/python3.8/dist-packages/torch/nn/modules/module.py\u001b[0m in \u001b[0;36m__getattr__\u001b[0;34m(self, name)\u001b[0m\n\u001b[1;32m   1263\u001b[0m             \u001b[0;32mif\u001b[0m \u001b[0mname\u001b[0m \u001b[0;32min\u001b[0m \u001b[0mmodules\u001b[0m\u001b[0;34m:\u001b[0m\u001b[0;34m\u001b[0m\u001b[0;34m\u001b[0m\u001b[0m\n\u001b[1;32m   1264\u001b[0m                 \u001b[0;32mreturn\u001b[0m \u001b[0mmodules\u001b[0m\u001b[0;34m[\u001b[0m\u001b[0mname\u001b[0m\u001b[0;34m]\u001b[0m\u001b[0;34m\u001b[0m\u001b[0;34m\u001b[0m\u001b[0m\n\u001b[0;32m-> 1265\u001b[0;31m         raise AttributeError(\"'{}' object has no attribute '{}'\".format(\n\u001b[0m\u001b[1;32m   1266\u001b[0m             type(self).__name__, name))\n\u001b[1;32m   1267\u001b[0m \u001b[0;34m\u001b[0m\u001b[0m\n",
            "\u001b[0;31mAttributeError\u001b[0m: 'TemporalFusionTransformer' object has no attribute 'format_outputs'"
          ]
        }
      ]
    },
    {
      "cell_type": "code",
      "source": [
        "new_x.keys()"
      ],
      "metadata": {
        "id": "lWG_-LXi6e-y"
      },
      "execution_count": null,
      "outputs": []
    },
    {
      "cell_type": "code",
      "source": [
        "# # Start tensorboard\n",
        "# %load_ext tensorboard\n",
        "# %tensorboard --logdir lightning_logs"
      ],
      "metadata": {
        "id": "y1ddEWvHKcNK"
      },
      "execution_count": null,
      "outputs": []
    },
    {
      "cell_type": "code",
      "source": [
        "# actuals = torch.cat([y[0] for x, y in iter(val_dataloader)])\n",
        "# predictions = best_tft.predict(val_dataloader)\n",
        "\n",
        "# #average p50 loss overall\n",
        "# print((actuals - predictions).abs().mean().item())\n",
        "# #average p50 loss per time series\n",
        "# print((actuals - predictions).abs().mean(axis=1))"
      ],
      "metadata": {
        "id": "_0-abIf0nlPV"
      },
      "execution_count": null,
      "outputs": []
    },
    {
      "cell_type": "code",
      "source": [
        "# raw_predictions, x = best_tft.predict(val_dataloader, mode=\"raw\", return_x=True)\n",
        "\n",
        "# for idx in range(4):  # plot all 4 regions\n",
        "#     fig, ax = plt.subplots(figsize=(10, 4))\n",
        "#     best_tft.plot_prediction(x, raw_predictions, idx=idx, add_loss_to_title=True,ax=ax)"
      ],
      "metadata": {
        "id": "gOwj9Sj8n2JM"
      },
      "execution_count": null,
      "outputs": []
    },
    {
      "cell_type": "code",
      "source": [
        "len(new_raw_predictions)"
      ],
      "metadata": {
        "id": "GsCafISzn8S8"
      },
      "execution_count": null,
      "outputs": []
    },
    {
      "cell_type": "code",
      "source": [],
      "metadata": {
        "id": "qzw5irn806Rc"
      },
      "execution_count": null,
      "outputs": []
    }
  ]
}